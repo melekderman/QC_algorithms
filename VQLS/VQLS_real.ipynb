{
 "cells": [
  {
   "cell_type": "code",
   "execution_count": 18,
   "id": "c3480972",
   "metadata": {},
   "outputs": [],
   "source": [
    "import numpy as np\n",
    "import scipy.linalg as la"
   ]
  },
  {
   "cell_type": "code",
   "execution_count": 19,
   "id": "caba4c7e",
   "metadata": {},
   "outputs": [
    {
     "name": "stdout",
     "output_type": "stream",
     "text": [
      "Classical solution: [0.93901142 1.55746451 1.93171149 2.10795571 2.10795571 1.93171149\n",
      " 1.55746451 0.93901142]\n",
      "Reference solution: [0.1959472  0.32500224 0.40309783 0.43987541 0.43987541 0.40309783\n",
      " 0.32500224 0.1959472 ]\n",
      "A [[ 1.72 -0.81  0.    0.    0.    0.    0.    0.  ]\n",
      " [-0.81  1.72 -0.81  0.    0.    0.    0.    0.  ]\n",
      " [ 0.   -0.81  1.72 -0.81  0.    0.    0.    0.  ]\n",
      " [ 0.    0.   -0.81  1.72 -0.81  0.    0.    0.  ]\n",
      " [ 0.    0.    0.   -0.81  1.72 -0.81  0.    0.  ]\n",
      " [ 0.    0.    0.    0.   -0.81  1.72 -0.81  0.  ]\n",
      " [ 0.    0.    0.    0.    0.   -0.81  1.72 -0.81]\n",
      " [ 0.    0.    0.    0.    0.    0.   -0.81  1.72]]\n"
     ]
    }
   ],
   "source": [
    "N = 9\n",
    "n = N - 1\n",
    "L = 10.0\n",
    "dx = L / N\n",
    "D = 1.0\n",
    "xs_a = 0.1\n",
    "S = 1.0 \n",
    "\n",
    "def diffusion_matrix(D, xs_a): #finite difference\n",
    "    A = np.zeros((n, n))\n",
    "    for i in range(n):\n",
    "        A[i, i] = 2 * D / dx**2 + xs_a\n",
    "        if i > 0:\n",
    "            A[i, i - 1] = -D / dx**2\n",
    "        if i < n - 1:\n",
    "            A[i, i + 1] = -D / dx**2\n",
    "    return A\n",
    "\n",
    "A = diffusion_matrix(D, xs_a)\n",
    "b = np.full(n, S * dx)\n",
    "b_norm = b / np.linalg.norm(b)\n",
    "\n",
    "classical_solution = la.solve(A, b_norm)\n",
    "ref_solution = classical_solution / np.linalg.norm(classical_solution)\n",
    "print(\"Classical solution:\", classical_solution)\n",
    "print(\"Reference solution:\", ref_solution)\n",
    "print(\"A\", A)"
   ]
  },
  {
   "cell_type": "code",
   "execution_count": 20,
   "id": "4125931e",
   "metadata": {},
   "outputs": [
    {
     "data": {
      "image/png": "[encoded data removed]",
      "text/plain": [
       "<Figure size 1207.22x284.278 with 1 Axes>"
      ]
     },
     "execution_count": 20,
     "metadata": {},
     "output_type": "execute_result"
    }
   ],
   "source": [
    "from qiskit.circuit.library.n_local.real_amplitudes import RealAmplitudes\n",
    "size = n\n",
    "nqbit = int(np.log2(size))\n",
    "ansatz = RealAmplitudes(nqbit, entanglement=\"full\", reps=3, insert_barriers=False)\n",
    "ansatz.decompose().draw(\"mpl\")"
   ]
  },
  {
   "cell_type": "code",
   "execution_count": 23,
   "id": "0fc087eb",
   "metadata": {},
   "outputs": [
    {
     "name": "stderr",
     "output_type": "stream",
     "text": [
      "/Users/melekderman/miniforge3/envs/vqls/lib/python3.8/site-packages/qiskit_ibm_runtime/qiskit_runtime_service.py:863: UserWarning: IBM Quantum Platform is moving, and this version will be sunset on July 1. To get started on the new platform, read the migration guide at https://docs.quantum.ibm.com/migration-guides/classic-iqp-to-cloud-iqp\n",
      "  warnings.warn(warning_message)\n",
      "/Users/melekderman/miniforge3/envs/vqls/lib/python3.8/site-packages/qiskit_ibm_runtime/qiskit_runtime_service.py:863: UserWarning: IBM Quantum Platform is moving, and this version will be sunset on July 1. To get started on the new platform, read the migration guide at https://docs.quantum.ibm.com/migration-guides/classic-iqp-to-cloud-iqp\n",
      "  warnings.warn(warning_message)\n",
      "/Users/melekderman/miniforge3/envs/vqls/lib/python3.8/site-packages/qiskit_ibm_runtime/qiskit_runtime_service.py:863: UserWarning: IBM Quantum Platform is moving, and this version will be sunset on July 1. To get started on the new platform, read the migration guide at https://docs.quantum.ibm.com/migration-guides/classic-iqp-to-cloud-iqp\n",
      "  warnings.warn(warning_message)\n",
      "/Users/melekderman/miniforge3/envs/vqls/lib/python3.8/site-packages/qiskit_ibm_runtime/qiskit_runtime_service.py:863: UserWarning: IBM Quantum Platform is moving, and this version will be sunset on July 1. To get started on the new platform, read the migration guide at https://docs.quantum.ibm.com/migration-guides/classic-iqp-to-cloud-iqp\n",
      "  warnings.warn(warning_message)\n",
      "/Users/melekderman/miniforge3/envs/vqls/lib/python3.8/site-packages/qiskit_ibm_runtime/qiskit_runtime_service.py:863: UserWarning: IBM Quantum Platform is moving, and this version will be sunset on July 1. To get started on the new platform, read the migration guide at https://docs.quantum.ibm.com/migration-guides/classic-iqp-to-cloud-iqp\n",
      "  warnings.warn(warning_message)\n",
      "/Users/melekderman/miniforge3/envs/vqls/lib/python3.8/site-packages/qiskit_ibm_runtime/qiskit_runtime_service.py:863: UserWarning: IBM Quantum Platform is moving, and this version will be sunset on July 1. To get started on the new platform, read the migration guide at https://docs.quantum.ibm.com/migration-guides/classic-iqp-to-cloud-iqp\n",
      "  warnings.warn(warning_message)\n",
      "/Users/melekderman/miniforge3/envs/vqls/lib/python3.8/site-packages/qiskit_ibm_runtime/qiskit_runtime_service.py:863: UserWarning: IBM Quantum Platform is moving, and this version will be sunset on July 1. To get started on the new platform, read the migration guide at https://docs.quantum.ibm.com/migration-guides/classic-iqp-to-cloud-iqp\n",
      "  warnings.warn(warning_message)\n"
     ]
    },
    {
     "name": "stdout",
     "output_type": "stream",
     "text": [
      "Error: 'The primitive to evaluate the Hadammard Test failed!'\n"
     ]
    }
   ],
   "source": [
    "from qiskit_ibm_runtime import (\n",
    "    QiskitRuntimeService,\n",
    "    Estimator,\n",
    "    Session,\n",
    "    EstimatorOptions,\n",
    ")\n",
    "from vqls_prototype import VQLS, VQLSLog\n",
    "from qiskit_algorithms import optimizers as opt\n",
    "\n",
    "# make sure your IBMQ account is saved\n",
    "# Initialize the Qiskit Runtime Service with your IBM Quantum account credentials.\n",
    "\n",
    "try:\n",
    "    # start the runtime service\n",
    "    service = QiskitRuntimeService()\n",
    "    backend_name = \"ibm_brisbane\"\n",
    "    backend = QiskitRuntimeService().backend(backend_name)\n",
    "\n",
    "    # start session\n",
    "    with Session(backend=backend) as session:\n",
    "        # options of the primitives\n",
    "        options = EstimatorOptions()\n",
    "        options.resilience_level = 0\n",
    "\n",
    "        # estimator\n",
    "        estimator = Estimator(mode=session, options=options)\n",
    "\n",
    "        # log\n",
    "        log = VQLSLog([], [])\n",
    "\n",
    "        # declare the solver\n",
    "        vqls = VQLS(estimator, ansatz, optimizer=opt.CG(maxiter=200))\n",
    "\n",
    "        # solve the linear system\n",
    "        solution = vqls.solve(A, b)\n",
    "except Exception as e:\n",
    "    print(\"Error:\", e)\n"
   ]
  },
  {
   "cell_type": "code",
   "execution_count": null,
   "id": "3df7ff06",
   "metadata": {},
   "outputs": [],
   "source": []
  }
 ],
 "metadata": {
  "kernelspec": {
   "display_name": "vqls",
   "language": "python",
   "name": "python3"
  },
  "language_info": {
   "codemirror_mode": {
    "name": "ipython",
    "version": 3
   },
   "file_extension": ".py",
   "mimetype": "text/x-python",
   "name": "python",
   "nbconvert_exporter": "python",
   "pygments_lexer": "ipython3",
   "version": "3.8.20"
  }
 },
 "nbformat": 4,
 "nbformat_minor": 5
}
