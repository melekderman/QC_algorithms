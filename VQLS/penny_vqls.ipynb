{
 "cells": [
  {
   "cell_type": "code",
   "execution_count": 1,
   "id": "ff600c73",
   "metadata": {},
   "outputs": [],
   "source": [
    "# Pennylane\n",
    "import pennylane as qml\n",
    "from pennylane import numpy as np\n",
    "\n",
    "# Plotting\n",
    "import matplotlib.pyplot as plt"
   ]
  },
  {
   "cell_type": "code",
   "execution_count": 2,
   "id": "a4988371",
   "metadata": {},
   "outputs": [],
   "source": [
    "n_qubits = 3  # Number of system qubits.\n",
    "n_shots = 10 ** 6  # Number of quantum measurements.\n",
    "tot_qubits = n_qubits + 1  # Addition of an ancillary qubit.\n",
    "ancilla_idx = n_qubits  # Index of the ancillary qubit (last position).\n",
    "steps = 30  # Number of optimization steps\n",
    "eta = 0.8  # Learning rate\n",
    "q_delta = 0.001  # Initial spread of random quantum weights\n",
    "rng_seed = 0  # Seed for random number generator"
   ]
  },
  {
   "cell_type": "code",
   "execution_count": 3,
   "id": "4d7c089c",
   "metadata": {},
   "outputs": [],
   "source": [
    "# Coefficients of the linear combination A = c_0 A_0 + c_1 A_1 ...\n",
    "c = np.array([1.0, 0.2, 0.2])\n",
    "\n",
    "def U_b():\n",
    "    \"\"\"Unitary matrix rotating the ground state to the problem vector |b> = U_b |0>.\"\"\"\n",
    "    for idx in range(n_qubits):\n",
    "        qml.Hadamard(wires=idx)\n",
    "\n",
    "def CA(idx):\n",
    "    \"\"\"Controlled versions of the unitary components A_l of the problem matrix A.\"\"\"\n",
    "    if idx == 0:\n",
    "        # Identity operation\n",
    "        None\n",
    "\n",
    "    elif idx == 1:\n",
    "        qml.CNOT(wires=[ancilla_idx, 0])\n",
    "        qml.CZ(wires=[ancilla_idx, 1])\n",
    "\n",
    "    elif idx == 2:\n",
    "        qml.CNOT(wires=[ancilla_idx, 0])"
   ]
  },
  {
   "cell_type": "code",
   "execution_count": 4,
   "id": "380c0ac8",
   "metadata": {},
   "outputs": [],
   "source": [
    "def variational_block(weights):\n",
    "    \"\"\"Variational circuit mapping the ground state |0> to the ansatz state |x>.\"\"\"\n",
    "    # We first prepare an equal superposition of all the states of the computational basis.\n",
    "    for idx in range(n_qubits):\n",
    "        qml.Hadamard(wires=idx)\n",
    "\n",
    "    # A very minimal variational circuit.\n",
    "    for idx, element in enumerate(weights):\n",
    "        qml.RY(element, wires=idx)"
   ]
  },
  {
   "cell_type": "code",
   "execution_count": 5,
   "id": "4d7f5479",
   "metadata": {},
   "outputs": [],
   "source": [
    "dev_mu = qml.device(\"lightning.qubit\", wires=tot_qubits)\n",
    "\n",
    "@qml.qnode(dev_mu, interface=\"autograd\")\n",
    "def local_hadamard_test(weights, l=None, lp=None, j=None, part=None):\n",
    "\n",
    "    # First Hadamard gate applied to the ancillary qubit.\n",
    "    qml.Hadamard(wires=ancilla_idx)\n",
    "\n",
    "    # For estimating the imaginary part of the coefficient \"mu\", we must add a \"-i\"\n",
    "    # phase gate.\n",
    "    if part == \"Im\" or part == \"im\":\n",
    "        qml.PhaseShift(-np.pi / 2, wires=ancilla_idx)\n",
    "\n",
    "    # Variational circuit generating a guess for the solution vector |x>\n",
    "    variational_block(weights)\n",
    "\n",
    "    # Controlled application of the unitary component A_l of the problem matrix A.\n",
    "    CA(l)\n",
    "\n",
    "    # Adjoint of the unitary U_b associated to the problem vector |b>.\n",
    "    # In this specific example Adjoint(U_b) = U_b.\n",
    "    U_b()\n",
    "\n",
    "    # Controlled Z operator at position j. If j = -1, apply the identity.\n",
    "    if j != -1:\n",
    "        qml.CZ(wires=[ancilla_idx, j])\n",
    "\n",
    "    # Unitary U_b associated to the problem vector |b>.\n",
    "    U_b()\n",
    "\n",
    "    # Controlled application of Adjoint(A_lp).\n",
    "    # In this specific example Adjoint(A_lp) = A_lp.\n",
    "    CA(lp)\n",
    "\n",
    "    # Second Hadamard gate applied to the ancillary qubit.\n",
    "    qml.Hadamard(wires=ancilla_idx)\n",
    "\n",
    "    # Expectation value of Z for the ancillary qubit.\n",
    "    return qml.expval(qml.PauliZ(wires=ancilla_idx))"
   ]
  },
  {
   "cell_type": "code",
   "execution_count": 6,
   "id": "cd7c148c",
   "metadata": {},
   "outputs": [],
   "source": [
    "def mu(weights, l=None, lp=None, j=None):\n",
    "    \"\"\"Generates the coefficients to compute the \"local\" cost function C_L.\"\"\"\n",
    "\n",
    "    mu_real = local_hadamard_test(weights, l=l, lp=lp, j=j, part=\"Re\")\n",
    "    mu_imag = local_hadamard_test(weights, l=l, lp=lp, j=j, part=\"Im\")\n",
    "\n",
    "    return mu_real + 1.0j * mu_imag"
   ]
  },
  {
   "cell_type": "code",
   "execution_count": 7,
   "id": "07c00dc9",
   "metadata": {},
   "outputs": [],
   "source": [
    "def psi_norm(weights):\n",
    "    \"\"\"Returns the normalization constant <psi|psi>, where |psi> = A |x>.\"\"\"\n",
    "    norm = 0.0\n",
    "\n",
    "    for l in range(0, len(c)):\n",
    "        for lp in range(0, len(c)):\n",
    "            norm = norm + c[l] * np.conj(c[lp]) * mu(weights, l, lp, -1)\n",
    "\n",
    "    return abs(norm)"
   ]
  },
  {
   "cell_type": "code",
   "execution_count": 8,
   "id": "2e3cf324",
   "metadata": {},
   "outputs": [],
   "source": [
    "def cost_loc(weights):\n",
    "    \"\"\"Local version of the cost function. Tends to zero when A|x> is proportional to |b>.\"\"\"\n",
    "    mu_sum = 0.0\n",
    "\n",
    "    for l in range(0, len(c)):\n",
    "        for lp in range(0, len(c)):\n",
    "            for j in range(0, n_qubits):\n",
    "                mu_sum = mu_sum + c[l] * np.conj(c[lp]) * mu(weights, l, lp, j)\n",
    "\n",
    "    mu_sum = abs(mu_sum)\n",
    "\n",
    "    # Cost function C_L\n",
    "    return 0.5 - 0.5 * mu_sum / (n_qubits * psi_norm(weights))"
   ]
  },
  {
   "cell_type": "code",
   "execution_count": 9,
   "id": "28b1bf28",
   "metadata": {},
   "outputs": [],
   "source": [
    "np.random.seed(rng_seed)\n",
    "w = q_delta * np.random.randn(n_qubits, requires_grad=True)"
   ]
  },
  {
   "cell_type": "code",
   "execution_count": 10,
   "id": "d3626720",
   "metadata": {},
   "outputs": [],
   "source": [
    "opt = qml.GradientDescentOptimizer(eta)"
   ]
  },
  {
   "cell_type": "code",
   "execution_count": 11,
   "id": "363f7854",
   "metadata": {},
   "outputs": [
    {
     "name": "stdout",
     "output_type": "stream",
     "text": [
      "Step   0       Cost_L = 0.0089888\n",
      "Step   1       Cost_L = 0.0070072\n",
      "Step   2       Cost_L = 0.0054157\n",
      "Step   3       Cost_L = 0.0041528\n",
      "Step   4       Cost_L = 0.0031617\n",
      "Step   5       Cost_L = 0.0023917\n",
      "Step   6       Cost_L = 0.0017988\n",
      "Step   7       Cost_L = 0.0013461\n",
      "Step   8       Cost_L = 0.0010028\n",
      "Step   9       Cost_L = 0.0007442\n",
      "Step  10       Cost_L = 0.0005503\n",
      "Step  11       Cost_L = 0.0004058\n",
      "Step  12       Cost_L = 0.0002984\n",
      "Step  13       Cost_L = 0.0002190\n",
      "Step  14       Cost_L = 0.0001604\n",
      "Step  15       Cost_L = 0.0001173\n",
      "Step  16       Cost_L = 0.0000857\n",
      "Step  17       Cost_L = 0.0000625\n",
      "Step  18       Cost_L = 0.0000455\n",
      "Step  19       Cost_L = 0.0000331\n",
      "Step  20       Cost_L = 0.0000241\n",
      "Step  21       Cost_L = 0.0000175\n",
      "Step  22       Cost_L = 0.0000127\n",
      "Step  23       Cost_L = 0.0000092\n",
      "Step  24       Cost_L = 0.0000067\n",
      "Step  25       Cost_L = 0.0000049\n",
      "Step  26       Cost_L = 0.0000035\n",
      "Step  27       Cost_L = 0.0000026\n",
      "Step  28       Cost_L = 0.0000019\n",
      "Step  29       Cost_L = 0.0000013\n"
     ]
    }
   ],
   "source": [
    "cost_history = []\n",
    "for it in range(steps):\n",
    "    w, cost = opt.step_and_cost(cost_loc, w)\n",
    "    print(\"Step {:3d}       Cost_L = {:9.7f}\".format(it, cost))\n",
    "    cost_history.append(cost)"
   ]
  },
  {
   "cell_type": "code",
   "execution_count": 13,
   "id": "142c50a4",
   "metadata": {},
   "outputs": [
    {
     "data": {
      "image/png": "[encoded data removed]",
      "text/plain": [
       "<Figure size 640x480 with 1 Axes>"
      ]
     },
     "metadata": {},
     "output_type": "display_data"
    }
   ],
   "source": [
    "\n",
    "plt.plot(cost_history, \"g\")\n",
    "plt.ylabel(\"Cost function\")\n",
    "plt.xlabel(\"Optimization steps\")\n",
    "plt.show()"
   ]
  },
  {
   "cell_type": "code",
   "execution_count": 14,
   "id": "d54bd64e",
   "metadata": {},
   "outputs": [],
   "source": [
    "Id = np.identity(2)\n",
    "Z = np.array([[1, 0], [0, -1]])\n",
    "X = np.array([[0, 1], [1, 0]])\n",
    "\n",
    "A_0 = np.identity(8)\n",
    "A_1 = np.kron(np.kron(X, Z), Id)\n",
    "A_2 = np.kron(np.kron(X, Id), Id)\n",
    "\n",
    "A_num = c[0] * A_0 + c[1] * A_1 + c[2] * A_2\n",
    "b = np.ones(8) / np.sqrt(8)"
   ]
  },
  {
   "cell_type": "code",
   "execution_count": 15,
   "id": "89821813",
   "metadata": {},
   "outputs": [
    {
     "name": "stdout",
     "output_type": "stream",
     "text": [
      "A = \n",
      " [[1.  0.  0.  0.  0.4 0.  0.  0. ]\n",
      " [0.  1.  0.  0.  0.  0.4 0.  0. ]\n",
      " [0.  0.  1.  0.  0.  0.  0.  0. ]\n",
      " [0.  0.  0.  1.  0.  0.  0.  0. ]\n",
      " [0.4 0.  0.  0.  1.  0.  0.  0. ]\n",
      " [0.  0.4 0.  0.  0.  1.  0.  0. ]\n",
      " [0.  0.  0.  0.  0.  0.  1.  0. ]\n",
      " [0.  0.  0.  0.  0.  0.  0.  1. ]]\n",
      "b = \n",
      " [0.35355339 0.35355339 0.35355339 0.35355339 0.35355339 0.35355339\n",
      " 0.35355339 0.35355339]\n"
     ]
    }
   ],
   "source": [
    "print(\"A = \\n\", A_num)\n",
    "print(\"b = \\n\", b)"
   ]
  },
  {
   "cell_type": "code",
   "execution_count": 16,
   "id": "1ec287fb",
   "metadata": {},
   "outputs": [],
   "source": [
    "A_inv = np.linalg.inv(A_num)\n",
    "x = np.dot(A_inv, b)"
   ]
  },
  {
   "cell_type": "code",
   "execution_count": 17,
   "id": "f1428c37",
   "metadata": {},
   "outputs": [],
   "source": [
    "c_probs = (x / np.linalg.norm(x)) ** 2\n"
   ]
  },
  {
   "cell_type": "code",
   "execution_count": null,
   "id": "faa4b37d",
   "metadata": {},
   "outputs": [],
   "source": []
  }
 ],
 "metadata": {
  "kernelspec": {
   "display_name": "penny",
   "language": "python",
   "name": "python3"
  },
  "language_info": {
   "codemirror_mode": {
    "name": "ipython",
    "version": 3
   },
   "file_extension": ".py",
   "mimetype": "text/x-python",
   "name": "python",
   "nbconvert_exporter": "python",
   "pygments_lexer": "ipython3",
   "version": "3.10.0"
  }
 },
 "nbformat": 4,
 "nbformat_minor": 5
}
